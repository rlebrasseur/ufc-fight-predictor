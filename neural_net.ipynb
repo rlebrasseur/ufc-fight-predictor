{
 "cells": [
  {
   "cell_type": "markdown",
   "id": "0bdcad1a",
   "metadata": {},
   "source": [
    "Load necessary libraries."
   ]
  },
  {
   "cell_type": "code",
   "execution_count": 43,
   "id": "d4e8c98e",
   "metadata": {},
   "outputs": [],
   "source": [
    "import numpy as np\n",
    "import pandas as pd\n",
    "\n",
    "from sklearn.pipeline import Pipeline\n",
    "from sklearn.compose import ColumnTransformer\n",
    "from sklearn.impute import SimpleImputer\n",
    "from sklearn.preprocessing import MinMaxScaler\n",
    "from sklearn.preprocessing import OneHotEncoder\n",
    "\n",
    "from sklearn.neural_network import MLPClassifier\n",
    "\n",
    "from sklearn.model_selection import RepeatedKFold\n",
    "from sklearn.model_selection import GridSearchCV\n",
    "from sklearn.model_selection import RandomizedSearchCV"
   ]
  },
  {
   "cell_type": "markdown",
   "id": "9ebd1003",
   "metadata": {},
   "source": [
    "# I. Model Testing on All Data"
   ]
  },
  {
   "cell_type": "markdown",
   "id": "9ec3b60b",
   "metadata": {},
   "source": [
    "Create explanatory and response variables."
   ]
  },
  {
   "cell_type": "code",
   "execution_count": 44,
   "id": "cec9ef93",
   "metadata": {},
   "outputs": [],
   "source": [
    "df = pd.read_csv('train.csv')\n",
    "X = df.drop(['outcome'], axis=1)\n",
    "y = pd.get_dummies(df['outcome'], drop_first=True)\n",
    "y = np.ravel(y).reshape((-1,))"
   ]
  },
  {
   "cell_type": "markdown",
   "id": "51a579d6",
   "metadata": {},
   "source": [
    "Identify numeric and categorical columns."
   ]
  },
  {
   "cell_type": "code",
   "execution_count": 45,
   "id": "b7586fff-f751-429a-ae26-365ae6424848",
   "metadata": {},
   "outputs": [],
   "source": [
    "numeric_columns = X.select_dtypes(include=['number']).columns\n",
    "\n",
    "categorical_columns = list(set(X.columns) - set(numeric_columns))"
   ]
  },
  {
   "cell_type": "markdown",
   "id": "c78bf999",
   "metadata": {},
   "source": [
    "Create preprocessing pipeline."
   ]
  },
  {
   "cell_type": "code",
   "execution_count": 46,
   "id": "2a0f25d5",
   "metadata": {},
   "outputs": [],
   "source": [
    "numeric_transformer = Pipeline([('imputer', SimpleImputer(strategy='median')), ('scaler', MinMaxScaler())])\n",
    "categorical_transformer = Pipeline([('imputer', SimpleImputer(strategy='constant', fill_value='missing')), ('ohe', OneHotEncoder(handle_unknown='ignore'))])\n",
    "\n",
    "preprocessor = ColumnTransformer(\n",
    "    transformers=[\n",
    "        (\"num\", numeric_transformer, numeric_columns),\n",
    "        (\"cat\", categorical_transformer, categorical_columns),\n",
    "    ]\n",
    ")"
   ]
  },
  {
   "cell_type": "markdown",
   "id": "cb2a9629",
   "metadata": {},
   "source": [
    "# Neural Net"
   ]
  },
  {
   "cell_type": "markdown",
   "id": "0da83616",
   "metadata": {},
   "source": [
    "## Randomized Search\n",
    "Tune model parameters and obtain cv accuracy estimates."
   ]
  },
  {
   "cell_type": "code",
   "execution_count": 47,
   "id": "e0ef94fe",
   "metadata": {},
   "outputs": [
    {
     "name": "stdout",
     "output_type": "stream",
     "text": [
      "Highest neg_log_loss:  -0.594240160918905\n",
      "Best parameters:  {'classifier__learning_rate_init': 0.001, 'classifier__hidden_layer_sizes': 25, 'classifier__alpha': 0.5}\n"
     ]
    }
   ],
   "source": [
    "clf = Pipeline(\n",
    "    steps=[(\"preprocessor\", preprocessor), (\"classifier\", MLPClassifier(max_iter=1000, random_state=1))]\n",
    ")\n",
    "\n",
    "distributions = dict(classifier__alpha = [0.01, 0.1, 0.5],\n",
    "                     classifier__learning_rate_init=[0.001, 0.01, 0.1, 0.2, 0.3],\n",
    "                     classifier__hidden_layer_sizes=[3,5,7,10,25])\n",
    "random = RandomizedSearchCV(estimator=clf, param_distributions=distributions,\n",
    "                            scoring='neg_log_loss', n_iter=10, cv=rkf, random_state=1)\n",
    "random.fit(X, y)\n",
    "print(\"Highest neg_log_loss: \", random.best_score_)\n",
    "print(\"Best parameters: \", random.best_params_)"
   ]
  },
  {
   "cell_type": "markdown",
   "id": "0ff925ec",
   "metadata": {},
   "source": [
    "## Regular Grid Search\n",
    "Tune model parameters and obtain cv accuracy estimates."
   ]
  },
  {
   "cell_type": "code",
   "execution_count": 13,
   "id": "b08b98a8",
   "metadata": {},
   "outputs": [
    {
     "name": "stdout",
     "output_type": "stream",
     "text": [
      "-0.5904346780100138\n",
      "{'classifier__alpha': 0.1, 'classifier__hidden_layer_sizes': 5, 'classifier__learning_rate_init': 0.01}\n"
     ]
    }
   ],
   "source": [
    "clf = Pipeline(\n",
    "    steps=[(\"preprocessor\", preprocessor), (\"classifier\", MLPClassifier(max_iter=1000, random_state=1))]\n",
    ")\n",
    "\n",
    "param_grid1 = dict(classifier__alpha=[0.0001, 0.001, 0.01, 0.1],\n",
    "                   classifier__learning_rate_init=[0.0001, 0.001, 0.01, 0.1],\n",
    "                   classifier__hidden_layer_sizes=[5,10,25,50])\n",
    "rkf = RepeatedKFold(random_state=1)\n",
    "grid1 = GridSearchCV(estimator=clf, param_grid=param_grid1, scoring='neg_log_loss', cv=rkf, n_jobs=-1)\n",
    "grid1.fit(X, y)\n",
    "print(grid1.best_score_)\n",
    "print(grid1.best_params_)"
   ]
  },
  {
   "cell_type": "code",
   "execution_count": 17,
   "id": "a1cf0c5c",
   "metadata": {},
   "outputs": [
    {
     "data": {
      "text/html": [
       "<div>\n",
       "<style scoped>\n",
       "    .dataframe tbody tr th:only-of-type {\n",
       "        vertical-align: middle;\n",
       "    }\n",
       "\n",
       "    .dataframe tbody tr th {\n",
       "        vertical-align: top;\n",
       "    }\n",
       "\n",
       "    .dataframe thead th {\n",
       "        text-align: right;\n",
       "    }\n",
       "</style>\n",
       "<table border=\"1\" class=\"dataframe\">\n",
       "  <thead>\n",
       "    <tr style=\"text-align: right;\">\n",
       "      <th></th>\n",
       "      <th>classifier__alpha</th>\n",
       "      <th>classifier__hidden_layer_sizes</th>\n",
       "      <th>classifier__learning_rate_init</th>\n",
       "      <th>Negative Log Loss</th>\n",
       "    </tr>\n",
       "  </thead>\n",
       "  <tbody>\n",
       "    <tr>\n",
       "      <th>50</th>\n",
       "      <td>0.1000</td>\n",
       "      <td>5</td>\n",
       "      <td>0.010</td>\n",
       "      <td>-0.590435</td>\n",
       "    </tr>\n",
       "    <tr>\n",
       "      <th>54</th>\n",
       "      <td>0.1000</td>\n",
       "      <td>10</td>\n",
       "      <td>0.010</td>\n",
       "      <td>-0.592835</td>\n",
       "    </tr>\n",
       "    <tr>\n",
       "      <th>49</th>\n",
       "      <td>0.1000</td>\n",
       "      <td>5</td>\n",
       "      <td>0.001</td>\n",
       "      <td>-0.593826</td>\n",
       "    </tr>\n",
       "    <tr>\n",
       "      <th>58</th>\n",
       "      <td>0.1000</td>\n",
       "      <td>25</td>\n",
       "      <td>0.010</td>\n",
       "      <td>-0.596114</td>\n",
       "    </tr>\n",
       "    <tr>\n",
       "      <th>34</th>\n",
       "      <td>0.0100</td>\n",
       "      <td>5</td>\n",
       "      <td>0.010</td>\n",
       "      <td>-0.598353</td>\n",
       "    </tr>\n",
       "    <tr>\n",
       "      <th>...</th>\n",
       "      <td>...</td>\n",
       "      <td>...</td>\n",
       "      <td>...</td>\n",
       "      <td>...</td>\n",
       "    </tr>\n",
       "    <tr>\n",
       "      <th>45</th>\n",
       "      <td>0.0100</td>\n",
       "      <td>50</td>\n",
       "      <td>0.001</td>\n",
       "      <td>-0.820175</td>\n",
       "    </tr>\n",
       "    <tr>\n",
       "      <th>29</th>\n",
       "      <td>0.0010</td>\n",
       "      <td>50</td>\n",
       "      <td>0.001</td>\n",
       "      <td>-0.857151</td>\n",
       "    </tr>\n",
       "    <tr>\n",
       "      <th>13</th>\n",
       "      <td>0.0001</td>\n",
       "      <td>50</td>\n",
       "      <td>0.001</td>\n",
       "      <td>-0.878110</td>\n",
       "    </tr>\n",
       "    <tr>\n",
       "      <th>30</th>\n",
       "      <td>0.0010</td>\n",
       "      <td>50</td>\n",
       "      <td>0.010</td>\n",
       "      <td>-0.915427</td>\n",
       "    </tr>\n",
       "    <tr>\n",
       "      <th>14</th>\n",
       "      <td>0.0001</td>\n",
       "      <td>50</td>\n",
       "      <td>0.010</td>\n",
       "      <td>-0.976491</td>\n",
       "    </tr>\n",
       "  </tbody>\n",
       "</table>\n",
       "<p>64 rows × 4 columns</p>\n",
       "</div>"
      ],
      "text/plain": [
       "    classifier__alpha  classifier__hidden_layer_sizes  \\\n",
       "50             0.1000                               5   \n",
       "54             0.1000                              10   \n",
       "49             0.1000                               5   \n",
       "58             0.1000                              25   \n",
       "34             0.0100                               5   \n",
       "..                ...                             ...   \n",
       "45             0.0100                              50   \n",
       "29             0.0010                              50   \n",
       "13             0.0001                              50   \n",
       "30             0.0010                              50   \n",
       "14             0.0001                              50   \n",
       "\n",
       "    classifier__learning_rate_init  Negative Log Loss  \n",
       "50                           0.010          -0.590435  \n",
       "54                           0.010          -0.592835  \n",
       "49                           0.001          -0.593826  \n",
       "58                           0.010          -0.596114  \n",
       "34                           0.010          -0.598353  \n",
       "..                             ...                ...  \n",
       "45                           0.001          -0.820175  \n",
       "29                           0.001          -0.857151  \n",
       "13                           0.001          -0.878110  \n",
       "30                           0.010          -0.915427  \n",
       "14                           0.010          -0.976491  \n",
       "\n",
       "[64 rows x 4 columns]"
      ]
     },
     "execution_count": 17,
     "metadata": {},
     "output_type": "execute_result"
    }
   ],
   "source": [
    "grid1_table = pd.concat([pd.DataFrame(grid1.cv_results_['params']),\n",
    "                         pd.DataFrame(grid1.cv_results_['mean_test_score'],\n",
    "                                      columns=['Negative Log Loss'])],axis=1)\n",
    "\n",
    "grid1_table.sort_values('Negative Log Loss', ascending=False)"
   ]
  },
  {
   "cell_type": "code",
   "execution_count": 14,
   "id": "b962ce70",
   "metadata": {},
   "outputs": [
    {
     "name": "stdout",
     "output_type": "stream",
     "text": [
      "-0.5934974164533241\n",
      "{'classifier__alpha': 0.15, 'classifier__hidden_layer_sizes': 5}\n"
     ]
    }
   ],
   "source": [
    "clf = Pipeline(\n",
    "    steps=[(\"preprocessor\", preprocessor), \n",
    "           (\"classifier\", MLPClassifier(learning_rate_init=0.01, max_iter=1000, random_state=1))]\n",
    ")\n",
    "\n",
    "param_grid2 = dict(classifier__alpha=[0.05, 0.1, 0.15],\n",
    "                   classifier__hidden_layer_sizes=[3,5,7])\n",
    "rkf = RepeatedKFold(random_state=1)\n",
    "grid2 = GridSearchCV(estimator=clf, param_grid=param_grid2, scoring='neg_log_loss', cv=rkf, n_jobs=-1)\n",
    "grid2.fit(X, y)\n",
    "print(grid2.best_score_)\n",
    "print(grid2.best_params_)"
   ]
  },
  {
   "cell_type": "code",
   "execution_count": 15,
   "id": "0aa0ece4",
   "metadata": {},
   "outputs": [
    {
     "data": {
      "text/html": [
       "<div>\n",
       "<style scoped>\n",
       "    .dataframe tbody tr th:only-of-type {\n",
       "        vertical-align: middle;\n",
       "    }\n",
       "\n",
       "    .dataframe tbody tr th {\n",
       "        vertical-align: top;\n",
       "    }\n",
       "\n",
       "    .dataframe thead th {\n",
       "        text-align: right;\n",
       "    }\n",
       "</style>\n",
       "<table border=\"1\" class=\"dataframe\">\n",
       "  <thead>\n",
       "    <tr style=\"text-align: right;\">\n",
       "      <th></th>\n",
       "      <th>classifier__alpha</th>\n",
       "      <th>classifier__hidden_layer_sizes</th>\n",
       "      <th>Negative Log Loss</th>\n",
       "    </tr>\n",
       "  </thead>\n",
       "  <tbody>\n",
       "    <tr>\n",
       "      <th>7</th>\n",
       "      <td>0.15</td>\n",
       "      <td>5</td>\n",
       "      <td>-0.593497</td>\n",
       "    </tr>\n",
       "    <tr>\n",
       "      <th>4</th>\n",
       "      <td>0.10</td>\n",
       "      <td>5</td>\n",
       "      <td>-0.593826</td>\n",
       "    </tr>\n",
       "    <tr>\n",
       "      <th>8</th>\n",
       "      <td>0.15</td>\n",
       "      <td>7</td>\n",
       "      <td>-0.594468</td>\n",
       "    </tr>\n",
       "    <tr>\n",
       "      <th>1</th>\n",
       "      <td>0.05</td>\n",
       "      <td>5</td>\n",
       "      <td>-0.594886</td>\n",
       "    </tr>\n",
       "    <tr>\n",
       "      <th>5</th>\n",
       "      <td>0.10</td>\n",
       "      <td>7</td>\n",
       "      <td>-0.596311</td>\n",
       "    </tr>\n",
       "    <tr>\n",
       "      <th>2</th>\n",
       "      <td>0.05</td>\n",
       "      <td>7</td>\n",
       "      <td>-0.599567</td>\n",
       "    </tr>\n",
       "    <tr>\n",
       "      <th>6</th>\n",
       "      <td>0.15</td>\n",
       "      <td>3</td>\n",
       "      <td>-0.610910</td>\n",
       "    </tr>\n",
       "    <tr>\n",
       "      <th>0</th>\n",
       "      <td>0.05</td>\n",
       "      <td>3</td>\n",
       "      <td>-0.614176</td>\n",
       "    </tr>\n",
       "    <tr>\n",
       "      <th>3</th>\n",
       "      <td>0.10</td>\n",
       "      <td>3</td>\n",
       "      <td>-0.615870</td>\n",
       "    </tr>\n",
       "  </tbody>\n",
       "</table>\n",
       "</div>"
      ],
      "text/plain": [
       "   classifier__alpha  classifier__hidden_layer_sizes  Negative Log Loss\n",
       "7               0.15                               5          -0.593497\n",
       "4               0.10                               5          -0.593826\n",
       "8               0.15                               7          -0.594468\n",
       "1               0.05                               5          -0.594886\n",
       "5               0.10                               7          -0.596311\n",
       "2               0.05                               7          -0.599567\n",
       "6               0.15                               3          -0.610910\n",
       "0               0.05                               3          -0.614176\n",
       "3               0.10                               3          -0.615870"
      ]
     },
     "execution_count": 15,
     "metadata": {},
     "output_type": "execute_result"
    }
   ],
   "source": [
    "grid2_table = pd.concat([pd.DataFrame(grid2.cv_results_['params']),\n",
    "                         pd.DataFrame(grid2.cv_results_['mean_test_score'],\n",
    "                                      columns=['Negative Log Loss'])],axis=1)\n",
    "grid2_table.sort_values('Negative Log Loss', ascending=False)\n"
   ]
  },
  {
   "cell_type": "code",
   "execution_count": 19,
   "id": "ce683bee",
   "metadata": {},
   "outputs": [
    {
     "name": "stdout",
     "output_type": "stream",
     "text": [
      "-0.5876928144722277\n",
      "{'classifier__alpha': 0.15, 'classifier__hidden_layer_sizes': 5}\n"
     ]
    }
   ],
   "source": [
    "clf = Pipeline(\n",
    "    steps=[(\"preprocessor\", preprocessor), \n",
    "           (\"classifier\", MLPClassifier(learning_rate_init=0.01, max_iter=1000, random_state=1))]\n",
    ")\n",
    "\n",
    "param_grid3 = dict(classifier__alpha=[0.15, 0.25, 0.5, 0.75, 1],\n",
    "                   classifier__hidden_layer_sizes=[4,5,6])\n",
    "rkf = RepeatedKFold(random_state=1)\n",
    "grid3 = GridSearchCV(estimator=clf, param_grid=param_grid3, scoring='neg_log_loss', cv=rkf, n_jobs=-1)\n",
    "grid3.fit(X, y)\n",
    "print(grid3.best_score_)\n",
    "print(grid3.best_params_)"
   ]
  },
  {
   "cell_type": "code",
   "execution_count": 20,
   "id": "4c160dac",
   "metadata": {},
   "outputs": [
    {
     "data": {
      "text/html": [
       "<div>\n",
       "<style scoped>\n",
       "    .dataframe tbody tr th:only-of-type {\n",
       "        vertical-align: middle;\n",
       "    }\n",
       "\n",
       "    .dataframe tbody tr th {\n",
       "        vertical-align: top;\n",
       "    }\n",
       "\n",
       "    .dataframe thead th {\n",
       "        text-align: right;\n",
       "    }\n",
       "</style>\n",
       "<table border=\"1\" class=\"dataframe\">\n",
       "  <thead>\n",
       "    <tr style=\"text-align: right;\">\n",
       "      <th></th>\n",
       "      <th>classifier__alpha</th>\n",
       "      <th>classifier__hidden_layer_sizes</th>\n",
       "      <th>Negative Log Loss</th>\n",
       "    </tr>\n",
       "  </thead>\n",
       "  <tbody>\n",
       "    <tr>\n",
       "      <th>1</th>\n",
       "      <td>0.15</td>\n",
       "      <td>5</td>\n",
       "      <td>-0.587693</td>\n",
       "    </tr>\n",
       "    <tr>\n",
       "      <th>2</th>\n",
       "      <td>0.15</td>\n",
       "      <td>6</td>\n",
       "      <td>-0.590080</td>\n",
       "    </tr>\n",
       "    <tr>\n",
       "      <th>4</th>\n",
       "      <td>0.25</td>\n",
       "      <td>5</td>\n",
       "      <td>-0.591792</td>\n",
       "    </tr>\n",
       "    <tr>\n",
       "      <th>5</th>\n",
       "      <td>0.25</td>\n",
       "      <td>6</td>\n",
       "      <td>-0.592240</td>\n",
       "    </tr>\n",
       "    <tr>\n",
       "      <th>7</th>\n",
       "      <td>0.50</td>\n",
       "      <td>5</td>\n",
       "      <td>-0.595722</td>\n",
       "    </tr>\n",
       "    <tr>\n",
       "      <th>8</th>\n",
       "      <td>0.50</td>\n",
       "      <td>6</td>\n",
       "      <td>-0.596341</td>\n",
       "    </tr>\n",
       "    <tr>\n",
       "      <th>11</th>\n",
       "      <td>0.75</td>\n",
       "      <td>6</td>\n",
       "      <td>-0.599626</td>\n",
       "    </tr>\n",
       "    <tr>\n",
       "      <th>10</th>\n",
       "      <td>0.75</td>\n",
       "      <td>5</td>\n",
       "      <td>-0.602222</td>\n",
       "    </tr>\n",
       "    <tr>\n",
       "      <th>14</th>\n",
       "      <td>1.00</td>\n",
       "      <td>6</td>\n",
       "      <td>-0.603643</td>\n",
       "    </tr>\n",
       "    <tr>\n",
       "      <th>13</th>\n",
       "      <td>1.00</td>\n",
       "      <td>5</td>\n",
       "      <td>-0.606034</td>\n",
       "    </tr>\n",
       "    <tr>\n",
       "      <th>0</th>\n",
       "      <td>0.15</td>\n",
       "      <td>4</td>\n",
       "      <td>-0.608620</td>\n",
       "    </tr>\n",
       "    <tr>\n",
       "      <th>3</th>\n",
       "      <td>0.25</td>\n",
       "      <td>4</td>\n",
       "      <td>-0.611416</td>\n",
       "    </tr>\n",
       "    <tr>\n",
       "      <th>6</th>\n",
       "      <td>0.50</td>\n",
       "      <td>4</td>\n",
       "      <td>-0.617737</td>\n",
       "    </tr>\n",
       "    <tr>\n",
       "      <th>9</th>\n",
       "      <td>0.75</td>\n",
       "      <td>4</td>\n",
       "      <td>-0.619837</td>\n",
       "    </tr>\n",
       "    <tr>\n",
       "      <th>12</th>\n",
       "      <td>1.00</td>\n",
       "      <td>4</td>\n",
       "      <td>-0.625330</td>\n",
       "    </tr>\n",
       "  </tbody>\n",
       "</table>\n",
       "</div>"
      ],
      "text/plain": [
       "    classifier__alpha  classifier__hidden_layer_sizes  Negative Log Loss\n",
       "1                0.15                               5          -0.587693\n",
       "2                0.15                               6          -0.590080\n",
       "4                0.25                               5          -0.591792\n",
       "5                0.25                               6          -0.592240\n",
       "7                0.50                               5          -0.595722\n",
       "8                0.50                               6          -0.596341\n",
       "11               0.75                               6          -0.599626\n",
       "10               0.75                               5          -0.602222\n",
       "14               1.00                               6          -0.603643\n",
       "13               1.00                               5          -0.606034\n",
       "0                0.15                               4          -0.608620\n",
       "3                0.25                               4          -0.611416\n",
       "6                0.50                               4          -0.617737\n",
       "9                0.75                               4          -0.619837\n",
       "12               1.00                               4          -0.625330"
      ]
     },
     "execution_count": 20,
     "metadata": {},
     "output_type": "execute_result"
    }
   ],
   "source": [
    "grid3_table = pd.concat([pd.DataFrame(grid3.cv_results_['params']),\n",
    "                         pd.DataFrame(grid3.cv_results_['mean_test_score'],\n",
    "                                      columns=['Negative Log Loss'])],axis=1)\n",
    "grid3_table.sort_values('Negative Log Loss', ascending=False)"
   ]
  },
  {
   "cell_type": "markdown",
   "id": "24ad92da",
   "metadata": {},
   "source": [
    "# II. Model Testing on Data With No Missing Values"
   ]
  },
  {
   "cell_type": "markdown",
   "id": "13b94ccb",
   "metadata": {},
   "source": [
    "Create explanatory and response variables."
   ]
  },
  {
   "cell_type": "code",
   "execution_count": 39,
   "id": "76298e47",
   "metadata": {},
   "outputs": [],
   "source": [
    "df = pd.read_csv('train_no_na.csv')\n",
    "X = df.drop(['outcome'], axis=1)\n",
    "y = pd.get_dummies(df[\"outcome\"], drop_first=True)\n",
    "y = np.ravel(y).reshape((-1,))"
   ]
  },
  {
   "cell_type": "markdown",
   "id": "9ca0378d",
   "metadata": {},
   "source": [
    "Identify numeric and categorical columns."
   ]
  },
  {
   "cell_type": "code",
   "execution_count": 40,
   "id": "178258bf",
   "metadata": {},
   "outputs": [],
   "source": [
    "numeric_columns = X.select_dtypes(include=['number']).columns\n",
    "\n",
    "categorical_columns = list(set(X.columns) - set(numeric_columns))"
   ]
  },
  {
   "cell_type": "markdown",
   "id": "0582342a",
   "metadata": {},
   "source": [
    "Create preprocessing pipeline."
   ]
  },
  {
   "cell_type": "code",
   "execution_count": 41,
   "id": "3a057029",
   "metadata": {},
   "outputs": [],
   "source": [
    "numeric_transformer = Pipeline([('imputer', SimpleImputer(strategy='median')), ('scaler', MinMaxScaler())])\n",
    "categorical_transformer = Pipeline([('imputer', SimpleImputer(strategy='constant', fill_value='missing')), ('ohe', OneHotEncoder(handle_unknown='ignore'))])\n",
    "\n",
    "preprocessor = ColumnTransformer(\n",
    "    transformers=[\n",
    "        (\"num\", numeric_transformer, numeric_columns),\n",
    "        (\"cat\", categorical_transformer, categorical_columns),\n",
    "    ]\n",
    ")"
   ]
  },
  {
   "cell_type": "markdown",
   "id": "d0d7b158",
   "metadata": {},
   "source": [
    "# Neural Net"
   ]
  },
  {
   "cell_type": "markdown",
   "id": "08b56a9c",
   "metadata": {},
   "source": [
    "## Randomized Search\n",
    "Tune model parameters and obtain cv accuracy estimates."
   ]
  },
  {
   "cell_type": "code",
   "execution_count": 42,
   "id": "d958c3a7",
   "metadata": {},
   "outputs": [
    {
     "name": "stdout",
     "output_type": "stream",
     "text": [
      "Highest neg_log_loss:  -0.6171278410952484\n",
      "Best parameters:  {'classifier__learning_rate_init': 0.001, 'classifier__hidden_layer_sizes': 25, 'classifier__alpha': 0.5}\n"
     ]
    }
   ],
   "source": [
    "clf = Pipeline(\n",
    "    steps=[(\"preprocessor\", preprocessor), (\"classifier\", MLPClassifier(max_iter=1000, random_state=1))]\n",
    ")\n",
    "\n",
    "distributions = dict(classifier__alpha = [0.01, 0.1, 0.5],\n",
    "                     classifier__learning_rate_init=[0.001, 0.01, 0.1, 0.2, 0.3],\n",
    "                     classifier__hidden_layer_sizes=[3,5,7,10,25])\n",
    "random = RandomizedSearchCV(estimator=clf, param_distributions=distributions,\n",
    "                            scoring='neg_log_loss', n_iter=10, cv=rkf, random_state=1)\n",
    "random.fit(X, y)\n",
    "print(\"Highest neg_log_loss: \", random.best_score_)\n",
    "print(\"Best parameters: \", random.best_params_)"
   ]
  },
  {
   "cell_type": "markdown",
   "id": "51f85966",
   "metadata": {},
   "source": [
    "## Regular Grid Search\n",
    "Tune model parameters and obtain cv accuracy estimates."
   ]
  },
  {
   "cell_type": "code",
   "execution_count": 26,
   "id": "f7b51ac8",
   "metadata": {},
   "outputs": [
    {
     "name": "stdout",
     "output_type": "stream",
     "text": [
      "-0.6148472844323163\n",
      "{'classifier__alpha': 0.1, 'classifier__hidden_layer_sizes': 5, 'classifier__learning_rate_init': 0.01}\n"
     ]
    }
   ],
   "source": [
    "clf = Pipeline(\n",
    "    steps=[(\"preprocessor\", preprocessor), (\"classifier\", MLPClassifier(max_iter=1000, random_state=1))]\n",
    ")\n",
    "\n",
    "param_grid1 = dict(classifier__alpha=[0.0001, 0.001, 0.01, 0.1],\n",
    "                   classifier__learning_rate_init=[0.0001, 0.001, 0.01, 0.1],\n",
    "                   classifier__hidden_layer_sizes=[5,10,25,50])\n",
    "rkf = RepeatedKFold(random_state=1)\n",
    "grid1 = GridSearchCV(estimator=clf, param_grid=param_grid1, scoring='neg_log_loss', cv=rkf, n_jobs=-1)\n",
    "grid1.fit(X, y)\n",
    "print(grid1.best_score_)\n",
    "print(grid1.best_params_)"
   ]
  },
  {
   "cell_type": "code",
   "execution_count": 27,
   "id": "90b77009",
   "metadata": {},
   "outputs": [
    {
     "data": {
      "text/html": [
       "<div>\n",
       "<style scoped>\n",
       "    .dataframe tbody tr th:only-of-type {\n",
       "        vertical-align: middle;\n",
       "    }\n",
       "\n",
       "    .dataframe tbody tr th {\n",
       "        vertical-align: top;\n",
       "    }\n",
       "\n",
       "    .dataframe thead th {\n",
       "        text-align: right;\n",
       "    }\n",
       "</style>\n",
       "<table border=\"1\" class=\"dataframe\">\n",
       "  <thead>\n",
       "    <tr style=\"text-align: right;\">\n",
       "      <th></th>\n",
       "      <th>classifier__alpha</th>\n",
       "      <th>classifier__hidden_layer_sizes</th>\n",
       "      <th>classifier__learning_rate_init</th>\n",
       "      <th>Negative Log Loss</th>\n",
       "    </tr>\n",
       "  </thead>\n",
       "  <tbody>\n",
       "    <tr>\n",
       "      <th>50</th>\n",
       "      <td>0.1000</td>\n",
       "      <td>5</td>\n",
       "      <td>0.0100</td>\n",
       "      <td>-0.614847</td>\n",
       "    </tr>\n",
       "    <tr>\n",
       "      <th>54</th>\n",
       "      <td>0.1000</td>\n",
       "      <td>10</td>\n",
       "      <td>0.0100</td>\n",
       "      <td>-0.619973</td>\n",
       "    </tr>\n",
       "    <tr>\n",
       "      <th>49</th>\n",
       "      <td>0.1000</td>\n",
       "      <td>5</td>\n",
       "      <td>0.0010</td>\n",
       "      <td>-0.620016</td>\n",
       "    </tr>\n",
       "    <tr>\n",
       "      <th>34</th>\n",
       "      <td>0.0100</td>\n",
       "      <td>5</td>\n",
       "      <td>0.0100</td>\n",
       "      <td>-0.624553</td>\n",
       "    </tr>\n",
       "    <tr>\n",
       "      <th>56</th>\n",
       "      <td>0.1000</td>\n",
       "      <td>25</td>\n",
       "      <td>0.0001</td>\n",
       "      <td>-0.625371</td>\n",
       "    </tr>\n",
       "    <tr>\n",
       "      <th>...</th>\n",
       "      <td>...</td>\n",
       "      <td>...</td>\n",
       "      <td>...</td>\n",
       "      <td>...</td>\n",
       "    </tr>\n",
       "    <tr>\n",
       "      <th>45</th>\n",
       "      <td>0.0100</td>\n",
       "      <td>50</td>\n",
       "      <td>0.0010</td>\n",
       "      <td>-0.904306</td>\n",
       "    </tr>\n",
       "    <tr>\n",
       "      <th>29</th>\n",
       "      <td>0.0010</td>\n",
       "      <td>50</td>\n",
       "      <td>0.0010</td>\n",
       "      <td>-0.989431</td>\n",
       "    </tr>\n",
       "    <tr>\n",
       "      <th>13</th>\n",
       "      <td>0.0001</td>\n",
       "      <td>50</td>\n",
       "      <td>0.0010</td>\n",
       "      <td>-0.999843</td>\n",
       "    </tr>\n",
       "    <tr>\n",
       "      <th>30</th>\n",
       "      <td>0.0010</td>\n",
       "      <td>50</td>\n",
       "      <td>0.0100</td>\n",
       "      <td>-1.110568</td>\n",
       "    </tr>\n",
       "    <tr>\n",
       "      <th>14</th>\n",
       "      <td>0.0001</td>\n",
       "      <td>50</td>\n",
       "      <td>0.0100</td>\n",
       "      <td>-1.118116</td>\n",
       "    </tr>\n",
       "  </tbody>\n",
       "</table>\n",
       "<p>64 rows × 4 columns</p>\n",
       "</div>"
      ],
      "text/plain": [
       "    classifier__alpha  classifier__hidden_layer_sizes  \\\n",
       "50             0.1000                               5   \n",
       "54             0.1000                              10   \n",
       "49             0.1000                               5   \n",
       "34             0.0100                               5   \n",
       "56             0.1000                              25   \n",
       "..                ...                             ...   \n",
       "45             0.0100                              50   \n",
       "29             0.0010                              50   \n",
       "13             0.0001                              50   \n",
       "30             0.0010                              50   \n",
       "14             0.0001                              50   \n",
       "\n",
       "    classifier__learning_rate_init  Negative Log Loss  \n",
       "50                          0.0100          -0.614847  \n",
       "54                          0.0100          -0.619973  \n",
       "49                          0.0010          -0.620016  \n",
       "34                          0.0100          -0.624553  \n",
       "56                          0.0001          -0.625371  \n",
       "..                             ...                ...  \n",
       "45                          0.0010          -0.904306  \n",
       "29                          0.0010          -0.989431  \n",
       "13                          0.0010          -0.999843  \n",
       "30                          0.0100          -1.110568  \n",
       "14                          0.0100          -1.118116  \n",
       "\n",
       "[64 rows x 4 columns]"
      ]
     },
     "execution_count": 27,
     "metadata": {},
     "output_type": "execute_result"
    }
   ],
   "source": [
    "grid1_table = pd.concat([pd.DataFrame(grid1.cv_results_['params']),\n",
    "                         pd.DataFrame(grid1.cv_results_['mean_test_score'],\n",
    "                                      columns=['Negative Log Loss'])],axis=1)\n",
    "\n",
    "grid1_table.sort_values('Negative Log Loss', ascending=False)"
   ]
  },
  {
   "cell_type": "code",
   "execution_count": 28,
   "id": "4410b74f",
   "metadata": {},
   "outputs": [
    {
     "name": "stdout",
     "output_type": "stream",
     "text": [
      "-0.614599972336987\n",
      "{'classifier__alpha': 0.15, 'classifier__hidden_layer_sizes': 5}\n"
     ]
    }
   ],
   "source": [
    "clf = Pipeline(\n",
    "    steps=[(\"preprocessor\", preprocessor), \n",
    "           (\"classifier\", MLPClassifier(learning_rate_init=0.01, max_iter=1000, random_state=1))]\n",
    ")\n",
    "\n",
    "param_grid2 = dict(classifier__alpha=[0.05, 0.1, 0.15],\n",
    "                   classifier__hidden_layer_sizes=[3,5,7])\n",
    "rkf = RepeatedKFold(random_state=1)\n",
    "grid2 = GridSearchCV(estimator=clf, param_grid=param_grid2, scoring='neg_log_loss', cv=rkf, n_jobs=-1)\n",
    "grid2.fit(X, y)\n",
    "print(grid2.best_score_)\n",
    "print(grid2.best_params_)"
   ]
  },
  {
   "cell_type": "code",
   "execution_count": 29,
   "id": "6d2cee28",
   "metadata": {},
   "outputs": [
    {
     "data": {
      "text/html": [
       "<div>\n",
       "<style scoped>\n",
       "    .dataframe tbody tr th:only-of-type {\n",
       "        vertical-align: middle;\n",
       "    }\n",
       "\n",
       "    .dataframe tbody tr th {\n",
       "        vertical-align: top;\n",
       "    }\n",
       "\n",
       "    .dataframe thead th {\n",
       "        text-align: right;\n",
       "    }\n",
       "</style>\n",
       "<table border=\"1\" class=\"dataframe\">\n",
       "  <thead>\n",
       "    <tr style=\"text-align: right;\">\n",
       "      <th></th>\n",
       "      <th>classifier__alpha</th>\n",
       "      <th>classifier__hidden_layer_sizes</th>\n",
       "      <th>Negative Log Loss</th>\n",
       "    </tr>\n",
       "  </thead>\n",
       "  <tbody>\n",
       "    <tr>\n",
       "      <th>7</th>\n",
       "      <td>0.15</td>\n",
       "      <td>5</td>\n",
       "      <td>-0.614600</td>\n",
       "    </tr>\n",
       "    <tr>\n",
       "      <th>8</th>\n",
       "      <td>0.15</td>\n",
       "      <td>7</td>\n",
       "      <td>-0.614715</td>\n",
       "    </tr>\n",
       "    <tr>\n",
       "      <th>4</th>\n",
       "      <td>0.10</td>\n",
       "      <td>5</td>\n",
       "      <td>-0.614847</td>\n",
       "    </tr>\n",
       "    <tr>\n",
       "      <th>6</th>\n",
       "      <td>0.15</td>\n",
       "      <td>3</td>\n",
       "      <td>-0.617069</td>\n",
       "    </tr>\n",
       "    <tr>\n",
       "      <th>1</th>\n",
       "      <td>0.05</td>\n",
       "      <td>5</td>\n",
       "      <td>-0.617215</td>\n",
       "    </tr>\n",
       "    <tr>\n",
       "      <th>5</th>\n",
       "      <td>0.10</td>\n",
       "      <td>7</td>\n",
       "      <td>-0.617851</td>\n",
       "    </tr>\n",
       "    <tr>\n",
       "      <th>0</th>\n",
       "      <td>0.05</td>\n",
       "      <td>3</td>\n",
       "      <td>-0.619415</td>\n",
       "    </tr>\n",
       "    <tr>\n",
       "      <th>3</th>\n",
       "      <td>0.10</td>\n",
       "      <td>3</td>\n",
       "      <td>-0.619786</td>\n",
       "    </tr>\n",
       "    <tr>\n",
       "      <th>2</th>\n",
       "      <td>0.05</td>\n",
       "      <td>7</td>\n",
       "      <td>-0.619897</td>\n",
       "    </tr>\n",
       "  </tbody>\n",
       "</table>\n",
       "</div>"
      ],
      "text/plain": [
       "   classifier__alpha  classifier__hidden_layer_sizes  Negative Log Loss\n",
       "7               0.15                               5          -0.614600\n",
       "8               0.15                               7          -0.614715\n",
       "4               0.10                               5          -0.614847\n",
       "6               0.15                               3          -0.617069\n",
       "1               0.05                               5          -0.617215\n",
       "5               0.10                               7          -0.617851\n",
       "0               0.05                               3          -0.619415\n",
       "3               0.10                               3          -0.619786\n",
       "2               0.05                               7          -0.619897"
      ]
     },
     "execution_count": 29,
     "metadata": {},
     "output_type": "execute_result"
    }
   ],
   "source": [
    "grid2_table = pd.concat([pd.DataFrame(grid2.cv_results_['params']),\n",
    "                         pd.DataFrame(grid2.cv_results_['mean_test_score'],\n",
    "                                      columns=['Negative Log Loss'])],axis=1)\n",
    "grid2_table.sort_values('Negative Log Loss', ascending=False)\n"
   ]
  },
  {
   "cell_type": "code",
   "execution_count": 31,
   "id": "d20ecb88",
   "metadata": {},
   "outputs": [
    {
     "name": "stdout",
     "output_type": "stream",
     "text": [
      "-0.6135942918450586\n",
      "{'classifier__alpha': 0.25, 'classifier__hidden_layer_sizes': 5}\n"
     ]
    }
   ],
   "source": [
    "clf = Pipeline(\n",
    "    steps=[(\"preprocessor\", preprocessor), \n",
    "           (\"classifier\", MLPClassifier(learning_rate_init=0.01, \n",
    "                                        max_iter=1000, random_state=1))]\n",
    ")\n",
    "\n",
    "param_grid3 = dict(classifier__alpha=[0.15, 0.25, 0.5, 0.75, 1],\n",
    "                   classifier__hidden_layer_sizes=[5,6])\n",
    "rkf = RepeatedKFold(random_state=1)\n",
    "grid3 = GridSearchCV(estimator=clf, param_grid=param_grid3, scoring='neg_log_loss', cv=rkf, n_jobs=-1)\n",
    "grid3.fit(X, y)\n",
    "print(grid3.best_score_)\n",
    "print(grid3.best_params_)"
   ]
  },
  {
   "cell_type": "code",
   "execution_count": 32,
   "id": "53473582",
   "metadata": {},
   "outputs": [
    {
     "data": {
      "text/html": [
       "<div>\n",
       "<style scoped>\n",
       "    .dataframe tbody tr th:only-of-type {\n",
       "        vertical-align: middle;\n",
       "    }\n",
       "\n",
       "    .dataframe tbody tr th {\n",
       "        vertical-align: top;\n",
       "    }\n",
       "\n",
       "    .dataframe thead th {\n",
       "        text-align: right;\n",
       "    }\n",
       "</style>\n",
       "<table border=\"1\" class=\"dataframe\">\n",
       "  <thead>\n",
       "    <tr style=\"text-align: right;\">\n",
       "      <th></th>\n",
       "      <th>classifier__alpha</th>\n",
       "      <th>classifier__hidden_layer_sizes</th>\n",
       "      <th>Negative Log Loss</th>\n",
       "    </tr>\n",
       "  </thead>\n",
       "  <tbody>\n",
       "    <tr>\n",
       "      <th>2</th>\n",
       "      <td>0.25</td>\n",
       "      <td>5</td>\n",
       "      <td>-0.613594</td>\n",
       "    </tr>\n",
       "    <tr>\n",
       "      <th>0</th>\n",
       "      <td>0.15</td>\n",
       "      <td>5</td>\n",
       "      <td>-0.614600</td>\n",
       "    </tr>\n",
       "    <tr>\n",
       "      <th>4</th>\n",
       "      <td>0.50</td>\n",
       "      <td>5</td>\n",
       "      <td>-0.616110</td>\n",
       "    </tr>\n",
       "    <tr>\n",
       "      <th>5</th>\n",
       "      <td>0.50</td>\n",
       "      <td>6</td>\n",
       "      <td>-0.617077</td>\n",
       "    </tr>\n",
       "    <tr>\n",
       "      <th>3</th>\n",
       "      <td>0.25</td>\n",
       "      <td>6</td>\n",
       "      <td>-0.618850</td>\n",
       "    </tr>\n",
       "    <tr>\n",
       "      <th>7</th>\n",
       "      <td>0.75</td>\n",
       "      <td>6</td>\n",
       "      <td>-0.620083</td>\n",
       "    </tr>\n",
       "    <tr>\n",
       "      <th>6</th>\n",
       "      <td>0.75</td>\n",
       "      <td>5</td>\n",
       "      <td>-0.620541</td>\n",
       "    </tr>\n",
       "    <tr>\n",
       "      <th>9</th>\n",
       "      <td>1.00</td>\n",
       "      <td>6</td>\n",
       "      <td>-0.621336</td>\n",
       "    </tr>\n",
       "    <tr>\n",
       "      <th>1</th>\n",
       "      <td>0.15</td>\n",
       "      <td>6</td>\n",
       "      <td>-0.621840</td>\n",
       "    </tr>\n",
       "    <tr>\n",
       "      <th>8</th>\n",
       "      <td>1.00</td>\n",
       "      <td>5</td>\n",
       "      <td>-0.623164</td>\n",
       "    </tr>\n",
       "  </tbody>\n",
       "</table>\n",
       "</div>"
      ],
      "text/plain": [
       "   classifier__alpha  classifier__hidden_layer_sizes  Negative Log Loss\n",
       "2               0.25                               5          -0.613594\n",
       "0               0.15                               5          -0.614600\n",
       "4               0.50                               5          -0.616110\n",
       "5               0.50                               6          -0.617077\n",
       "3               0.25                               6          -0.618850\n",
       "7               0.75                               6          -0.620083\n",
       "6               0.75                               5          -0.620541\n",
       "9               1.00                               6          -0.621336\n",
       "1               0.15                               6          -0.621840\n",
       "8               1.00                               5          -0.623164"
      ]
     },
     "execution_count": 32,
     "metadata": {},
     "output_type": "execute_result"
    }
   ],
   "source": [
    "grid3_table = pd.concat([pd.DataFrame(grid3.cv_results_['params']),\n",
    "                         pd.DataFrame(grid3.cv_results_['mean_test_score'],\n",
    "                                      columns=['Negative Log Loss'])],axis=1)\n",
    "grid3_table.sort_values('Negative Log Loss', ascending=False)"
   ]
  },
  {
   "cell_type": "code",
   "execution_count": 33,
   "id": "bfaff212",
   "metadata": {},
   "outputs": [
    {
     "name": "stdout",
     "output_type": "stream",
     "text": [
      "-0.6117097612551021\n",
      "{'classifier__alpha': 0.2}\n"
     ]
    }
   ],
   "source": [
    "clf = Pipeline(\n",
    "    steps=[(\"preprocessor\", preprocessor), \n",
    "           (\"classifier\", MLPClassifier(learning_rate_init=0.01, hidden_layer_sizes=5, \n",
    "                                        max_iter=1000, random_state=1))]\n",
    ")\n",
    "\n",
    "param_grid4 = dict(classifier__alpha=[0.2, 0.25, 0.3, 0.35, 0.4, 0.45])\n",
    "rkf = RepeatedKFold(random_state=1)\n",
    "grid4 = GridSearchCV(estimator=clf, param_grid=param_grid4, scoring='neg_log_loss', cv=rkf, n_jobs=-1)\n",
    "grid4.fit(X, y)\n",
    "print(grid4.best_score_)\n",
    "print(grid4.best_params_)"
   ]
  },
  {
   "cell_type": "code",
   "execution_count": null,
   "id": "8f92ed6a",
   "metadata": {},
   "outputs": [],
   "source": []
  }
 ],
 "metadata": {
  "kernelspec": {
   "display_name": "Python 3",
   "language": "python",
   "name": "python3"
  },
  "language_info": {
   "codemirror_mode": {
    "name": "ipython",
    "version": 3
   },
   "file_extension": ".py",
   "mimetype": "text/x-python",
   "name": "python",
   "nbconvert_exporter": "python",
   "pygments_lexer": "ipython3",
   "version": "3.8.8"
  }
 },
 "nbformat": 4,
 "nbformat_minor": 5
}
