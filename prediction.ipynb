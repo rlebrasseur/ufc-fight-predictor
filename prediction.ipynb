{
 "cells": [
  {
   "cell_type": "code",
   "execution_count": 21,
   "id": "a4ce0c92",
   "metadata": {},
   "outputs": [],
   "source": [
    "import numpy as np\n",
    "import pandas as pd\n",
    "\n",
    "from sklearn.pipeline import Pipeline\n",
    "from sklearn.compose import ColumnTransformer\n",
    "from sklearn.impute import SimpleImputer\n",
    "from sklearn.preprocessing import MinMaxScaler\n",
    "from sklearn.preprocessing import OneHotEncoder\n",
    "\n",
    "from sklearn.linear_model import LogisticRegression\n",
    "from sklearn.neural_network import MLPClassifier\n",
    "from xgboost import XGBClassifier\n",
    "from sklearn.ensemble import StackingClassifier\n",
    "\n",
    "from sklearn.model_selection import KFold"
   ]
  },
  {
   "cell_type": "code",
   "execution_count": 22,
   "id": "7090c8c5",
   "metadata": {},
   "outputs": [],
   "source": [
    "pd.reset_option('display.max_rows')"
   ]
  },
  {
   "cell_type": "code",
   "execution_count": 23,
   "id": "e2558bdc",
   "metadata": {},
   "outputs": [],
   "source": [
    "df_train = pd.read_csv('train_no_na.csv')\n",
    "X_train = df_train.drop(['outcome'], axis=1)\n",
    "y_train = pd.get_dummies(df_train[\"outcome\"], drop_first=True)\n",
    "y_train = np.ravel(y_train).reshape((-1,))"
   ]
  },
  {
   "cell_type": "code",
   "execution_count": 24,
   "id": "8f2714c6",
   "metadata": {},
   "outputs": [],
   "source": [
    "numeric_columns = X_train.select_dtypes(include=[float, int]).columns\n",
    "\n",
    "categorical_columns = list(set(X_train.columns) - set(numeric_columns))"
   ]
  },
  {
   "cell_type": "code",
   "execution_count": 25,
   "id": "b5751772",
   "metadata": {},
   "outputs": [],
   "source": [
    "numeric_transformer = Pipeline([('imputer', SimpleImputer(strategy='median'))])\n",
    "categorical_transformer = Pipeline([('imputer', SimpleImputer(strategy='constant', fill_value='missing')), ('ohe', OneHotEncoder(handle_unknown = 'ignore'))])\n",
    "\n",
    "preprocessor = ColumnTransformer(\n",
    "    transformers=[\n",
    "        (\"num\", numeric_transformer, numeric_columns),\n",
    "        (\"cat\", categorical_transformer, categorical_columns),\n",
    "    ]\n",
    ")"
   ]
  },
  {
   "cell_type": "code",
   "execution_count": 26,
   "id": "3af3add0",
   "metadata": {},
   "outputs": [
    {
     "data": {
      "text/plain": [
       "Pipeline(steps=[('preprocessor',\n",
       "                 ColumnTransformer(transformers=[('num',\n",
       "                                                  Pipeline(steps=[('imputer',\n",
       "                                                                   SimpleImputer(strategy='median'))]),\n",
       "                                                  Index(['r_kd', 'r_sub.att', 'r_rev.', 'r_ctrl_s', 'r_sig_str_percent',\n",
       "       'r_sig_str_att', 'r_total_str_percent', 'r_total_str_att',\n",
       "       'r_td_percent', 'r_td_att', 'r_head_percent', 'r_head_att',\n",
       "       'r_body_percent', 'r_body_att', 'r_leg_p...\n",
       "                               colsample_bytree=1, gamma=0.2, gpu_id=-1,\n",
       "                               importance_type='gain',\n",
       "                               interaction_constraints='', learning_rate=0.01,\n",
       "                               max_delta_step=0, max_depth=5,\n",
       "                               min_child_weight=3, missing=nan,\n",
       "                               monotone_constraints='()', n_estimators=481,\n",
       "                               n_jobs=-1, num_parallel_tree=1, random_state=1,\n",
       "                               reg_alpha=1e-05, reg_lambda=0.1,\n",
       "                               scale_pos_weight=1, subsample=0.9,\n",
       "                               tree_method='exact', validate_parameters=1,\n",
       "                               verbosity=None))])"
      ]
     },
     "execution_count": 26,
     "metadata": {},
     "output_type": "execute_result"
    }
   ],
   "source": [
    "#XGBoost\n",
    "\n",
    "xgb = XGBClassifier(learning_rate=0.01, n_estimators=481, max_depth=5, min_child_weight=3, gamma=0.2,\n",
    "                    colsample_bytree=1, subsample=0.9, reg_alpha=0.00001, reg_lambda=0.1,\n",
    "                    random_state=1, n_jobs=-1)\n",
    "\n",
    "xgb_pipeline = Pipeline(steps=[('preprocessor', preprocessor), ('model', xgb)])\n",
    "\n",
    "xgb_pipeline.fit(X_train, y_train)"
   ]
  },
  {
   "cell_type": "code",
   "execution_count": 27,
   "id": "249b64d8",
   "metadata": {},
   "outputs": [],
   "source": [
    "df_294 = pd.read_csv('294.csv')\n",
    "fighters_294 = pd.read_csv('294_fighters.csv')"
   ]
  },
  {
   "cell_type": "code",
   "execution_count": 28,
   "id": "699bc9c8",
   "metadata": {},
   "outputs": [],
   "source": [
    "predictions_xgb_294 = {'predicted': xgb_pipeline.predict(df_294),\n",
    "                            'blue_fighter': fighters_294['b_fighter'],\n",
    "                            'b_prob': [arr[0] for arr in xgb_pipeline.predict_proba(df_294)],\n",
    "                            'red_fighter': fighters_294['r_fighter'],\n",
    "                            'r_prob': [arr[1] for arr in xgb_pipeline.predict_proba(df_294)]}\n",
    "predictions_xgb_294 = pd.DataFrame(predictions_xgb_294)"
   ]
  },
  {
   "cell_type": "code",
   "execution_count": 29,
   "id": "82e84ed4",
   "metadata": {},
   "outputs": [
    {
     "data": {
      "text/html": [
       "<div>\n",
       "<style scoped>\n",
       "    .dataframe tbody tr th:only-of-type {\n",
       "        vertical-align: middle;\n",
       "    }\n",
       "\n",
       "    .dataframe tbody tr th {\n",
       "        vertical-align: top;\n",
       "    }\n",
       "\n",
       "    .dataframe thead th {\n",
       "        text-align: right;\n",
       "    }\n",
       "</style>\n",
       "<table border=\"1\" class=\"dataframe\">\n",
       "  <thead>\n",
       "    <tr style=\"text-align: right;\">\n",
       "      <th></th>\n",
       "      <th>predicted</th>\n",
       "      <th>blue_fighter</th>\n",
       "      <th>b_prob</th>\n",
       "      <th>red_fighter</th>\n",
       "      <th>r_prob</th>\n",
       "    </tr>\n",
       "  </thead>\n",
       "  <tbody>\n",
       "    <tr>\n",
       "      <th>0</th>\n",
       "      <td>1</td>\n",
       "      <td>Alexander Volkanovski</td>\n",
       "      <td>0.227377</td>\n",
       "      <td>Islam Makhachev</td>\n",
       "      <td>0.772623</td>\n",
       "    </tr>\n",
       "    <tr>\n",
       "      <th>1</th>\n",
       "      <td>1</td>\n",
       "      <td>Khamzat Chimaev</td>\n",
       "      <td>0.418139</td>\n",
       "      <td>Kamaru Usman</td>\n",
       "      <td>0.581861</td>\n",
       "    </tr>\n",
       "    <tr>\n",
       "      <th>2</th>\n",
       "      <td>1</td>\n",
       "      <td>Johnny Walker</td>\n",
       "      <td>0.373566</td>\n",
       "      <td>Magomed Ankalaev</td>\n",
       "      <td>0.626434</td>\n",
       "    </tr>\n",
       "    <tr>\n",
       "      <th>3</th>\n",
       "      <td>1</td>\n",
       "      <td>Warlley Alves</td>\n",
       "      <td>0.329638</td>\n",
       "      <td>Ikram Aliskerov</td>\n",
       "      <td>0.670362</td>\n",
       "    </tr>\n",
       "    <tr>\n",
       "      <th>4</th>\n",
       "      <td>1</td>\n",
       "      <td>Muin Gafurov</td>\n",
       "      <td>0.453668</td>\n",
       "      <td>Said Nurmagomedov</td>\n",
       "      <td>0.546332</td>\n",
       "    </tr>\n",
       "    <tr>\n",
       "      <th>5</th>\n",
       "      <td>0</td>\n",
       "      <td>Muhammad Mokaev</td>\n",
       "      <td>0.682317</td>\n",
       "      <td>Tim Elliot</td>\n",
       "      <td>0.317683</td>\n",
       "    </tr>\n",
       "    <tr>\n",
       "      <th>6</th>\n",
       "      <td>0</td>\n",
       "      <td>Trevor Peek</td>\n",
       "      <td>0.635556</td>\n",
       "      <td>Mohammad Yahya</td>\n",
       "      <td>0.364444</td>\n",
       "    </tr>\n",
       "    <tr>\n",
       "      <th>7</th>\n",
       "      <td>1</td>\n",
       "      <td>Victor Henry</td>\n",
       "      <td>0.237254</td>\n",
       "      <td>Javid Basharat</td>\n",
       "      <td>0.762746</td>\n",
       "    </tr>\n",
       "    <tr>\n",
       "      <th>8</th>\n",
       "      <td>0</td>\n",
       "      <td>Sedriques Dumas</td>\n",
       "      <td>0.608322</td>\n",
       "      <td>Abu Azaitar</td>\n",
       "      <td>0.391678</td>\n",
       "    </tr>\n",
       "    <tr>\n",
       "      <th>9</th>\n",
       "      <td>0</td>\n",
       "      <td>Anshul Jubli</td>\n",
       "      <td>0.621732</td>\n",
       "      <td>Mike Breeden</td>\n",
       "      <td>0.378268</td>\n",
       "    </tr>\n",
       "    <tr>\n",
       "      <th>10</th>\n",
       "      <td>1</td>\n",
       "      <td>Muhammad Naimov</td>\n",
       "      <td>0.386526</td>\n",
       "      <td>Nathaniel Wood</td>\n",
       "      <td>0.613474</td>\n",
       "    </tr>\n",
       "    <tr>\n",
       "      <th>11</th>\n",
       "      <td>1</td>\n",
       "      <td>Jinh Yu Frey</td>\n",
       "      <td>0.298889</td>\n",
       "      <td>Viktoriia Dudakova</td>\n",
       "      <td>0.701111</td>\n",
       "    </tr>\n",
       "  </tbody>\n",
       "</table>\n",
       "</div>"
      ],
      "text/plain": [
       "    predicted           blue_fighter    b_prob         red_fighter    r_prob\n",
       "0           1  Alexander Volkanovski  0.227377     Islam Makhachev  0.772623\n",
       "1           1        Khamzat Chimaev  0.418139        Kamaru Usman  0.581861\n",
       "2           1          Johnny Walker  0.373566    Magomed Ankalaev  0.626434\n",
       "3           1          Warlley Alves  0.329638     Ikram Aliskerov  0.670362\n",
       "4           1           Muin Gafurov  0.453668   Said Nurmagomedov  0.546332\n",
       "5           0        Muhammad Mokaev  0.682317          Tim Elliot  0.317683\n",
       "6           0            Trevor Peek  0.635556      Mohammad Yahya  0.364444\n",
       "7           1           Victor Henry  0.237254      Javid Basharat  0.762746\n",
       "8           0        Sedriques Dumas  0.608322         Abu Azaitar  0.391678\n",
       "9           0           Anshul Jubli  0.621732        Mike Breeden  0.378268\n",
       "10          1        Muhammad Naimov  0.386526      Nathaniel Wood  0.613474\n",
       "11          1           Jinh Yu Frey  0.298889  Viktoriia Dudakova  0.701111"
      ]
     },
     "execution_count": 29,
     "metadata": {},
     "output_type": "execute_result"
    }
   ],
   "source": [
    "predictions_xgb_294"
   ]
  },
  {
   "cell_type": "code",
   "execution_count": null,
   "id": "95c6afed",
   "metadata": {},
   "outputs": [],
   "source": []
  }
 ],
 "metadata": {
  "kernelspec": {
   "display_name": "Python 3",
   "language": "python",
   "name": "python3"
  },
  "language_info": {
   "codemirror_mode": {
    "name": "ipython",
    "version": 3
   },
   "file_extension": ".py",
   "mimetype": "text/x-python",
   "name": "python",
   "nbconvert_exporter": "python",
   "pygments_lexer": "ipython3",
   "version": "3.8.8"
  }
 },
 "nbformat": 4,
 "nbformat_minor": 5
}
