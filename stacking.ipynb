{
 "cells": [
  {
   "cell_type": "markdown",
   "id": "ab7c50ab",
   "metadata": {},
   "source": [
    "Load necessary libraries."
   ]
  },
  {
   "cell_type": "code",
   "execution_count": 51,
   "id": "a73f2253",
   "metadata": {},
   "outputs": [],
   "source": [
    "import numpy as np\n",
    "import pandas as pd\n",
    "\n",
    "from sklearn.pipeline import Pipeline\n",
    "from sklearn.compose import ColumnTransformer\n",
    "from sklearn.impute import SimpleImputer\n",
    "from sklearn.preprocessing import MinMaxScaler\n",
    "from sklearn.preprocessing import OneHotEncoder\n",
    "\n",
    "from sklearn.linear_model import LogisticRegression\n",
    "from sklearn.neural_network import MLPClassifier\n",
    "from xgboost import XGBClassifier\n",
    "from sklearn.ensemble import StackingClassifier\n",
    "\n",
    "from sklearn.model_selection import RepeatedKFold\n",
    "from sklearn.model_selection import KFold\n",
    "from sklearn.model_selection import cross_val_score\n",
    "\n",
    "from statistics import mean"
   ]
  },
  {
   "cell_type": "markdown",
   "id": "12b44a02",
   "metadata": {},
   "source": [
    "# I. Model Testing on All Data"
   ]
  },
  {
   "cell_type": "markdown",
   "id": "755354cd",
   "metadata": {},
   "source": [
    "Create explanatory and response variables."
   ]
  },
  {
   "cell_type": "code",
   "execution_count": 52,
   "id": "cbe120be",
   "metadata": {},
   "outputs": [],
   "source": [
    "df = pd.read_csv('train.csv')\n",
    "X = df.drop(['outcome'], axis=1)\n",
    "y = pd.get_dummies(df[\"outcome\"], drop_first=True)\n",
    "y = np.ravel(y).reshape((-1,))"
   ]
  },
  {
   "cell_type": "markdown",
   "id": "a6a3fc27",
   "metadata": {},
   "source": [
    "Identify Numeric and categorical columns."
   ]
  },
  {
   "cell_type": "code",
   "execution_count": 53,
   "id": "f6aa8bf2",
   "metadata": {},
   "outputs": [],
   "source": [
    "numeric_columns = X.select_dtypes(include=[float, int]).columns\n",
    "\n",
    "categorical_columns = list(set(X.columns) - set(numeric_columns))"
   ]
  },
  {
   "cell_type": "markdown",
   "id": "e2b5334e",
   "metadata": {},
   "source": [
    "Create preprocessing pipelines. One without and one with scaling for numeric variables."
   ]
  },
  {
   "cell_type": "code",
   "execution_count": 54,
   "id": "6a56df19",
   "metadata": {},
   "outputs": [],
   "source": [
    "numeric_transformer = Pipeline([('imputer', SimpleImputer(strategy='median'))])\n",
    "categorical_transformer = Pipeline([('imputer', SimpleImputer(strategy='constant', fill_value='missing')), ('ohe', OneHotEncoder(handle_unknown = 'ignore'))])\n",
    "\n",
    "preprocessor = ColumnTransformer(\n",
    "    transformers=[\n",
    "        (\"num\", numeric_transformer, numeric_columns),\n",
    "        (\"cat\", categorical_transformer, categorical_columns),\n",
    "    ]\n",
    ")"
   ]
  },
  {
   "cell_type": "code",
   "execution_count": 55,
   "id": "d3a3b8fe",
   "metadata": {},
   "outputs": [],
   "source": [
    "numeric_transformer_scale = Pipeline([('imputer', SimpleImputer(strategy='median')), ('scaler', MinMaxScaler())])\n",
    "\n",
    "preprocessor_scale = ColumnTransformer(\n",
    "    transformers=[\n",
    "        (\"num\", numeric_transformer_scale, numeric_columns),\n",
    "        (\"cat\", categorical_transformer, categorical_columns),\n",
    "    ]\n",
    ")"
   ]
  },
  {
   "cell_type": "markdown",
   "id": "44a05f5c",
   "metadata": {},
   "source": [
    "Load models."
   ]
  },
  {
   "cell_type": "code",
   "execution_count": 56,
   "id": "a7f5e9d3",
   "metadata": {},
   "outputs": [],
   "source": [
    "reg = LogisticRegression(penalty='l1', solver='liblinear', C=1)\n",
    "reg_pipeline = Pipeline(steps=[('preprocessor', preprocessor_scale), ('model', reg)])"
   ]
  },
  {
   "cell_type": "code",
   "execution_count": 57,
   "id": "a524fff1",
   "metadata": {},
   "outputs": [],
   "source": [
    "mlp = MLPClassifier(alpha=0.15, hidden_layer_sizes=5, learning_rate_init=0.01, max_iter=1000, random_state=1)\n",
    "mlp_pipeline = Pipeline(steps=[('preprocessor_scale', preprocessor_scale), ('model', mlp)])"
   ]
  },
  {
   "cell_type": "code",
   "execution_count": 58,
   "id": "56225ab3",
   "metadata": {},
   "outputs": [],
   "source": [
    "xgb = XGBClassifier(learning_rate=0.05, n_estimators=114, max_depth=5, min_child_weight=5, gamma=0.6,\n",
    "                    colsample_bytree=0.9, subsample=1, reg_alpha=0.00001, reg_lambda=1,\n",
    "                    random_state=1, n_jobs=-1)\n",
    "xgb_pipeline = Pipeline(steps=[('preprocessor', preprocessor), ('model', xgb)])"
   ]
  },
  {
   "cell_type": "markdown",
   "id": "a9b5a7dd",
   "metadata": {},
   "source": [
    "Run stacking classifier."
   ]
  },
  {
   "cell_type": "code",
   "execution_count": 59,
   "id": "5b432a77",
   "metadata": {},
   "outputs": [
    {
     "name": "stdout",
     "output_type": "stream",
     "text": [
      "-0.570537738682534\n"
     ]
    }
   ],
   "source": [
    "rkf = RepeatedKFold(random_state=1)\n",
    "kf = KFold(shuffle=True, random_state=1)\n",
    "\n",
    "level0 = list()\n",
    "level0.append(('reg', reg_pipeline))\n",
    "level0.append(('mlp', mlp_pipeline))\n",
    "level0.append(('xgb', xgb_pipeline))\n",
    "level1 = LogisticRegression(solver='sag')\n",
    "\n",
    "clf = StackingClassifier(estimators=level0, final_estimator=level1, cv=kf, n_jobs=-1)\n",
    "\n",
    "cv_scores = cross_val_score(estimator=clf, X=X, y=y, scoring='neg_log_loss', cv=rkf, n_jobs=-1)\n",
    "print(mean(cv_scores))"
   ]
  },
  {
   "cell_type": "markdown",
   "id": "3fbd3921",
   "metadata": {},
   "source": [
    "# II. Model Testing on Data With No Missing Values"
   ]
  },
  {
   "cell_type": "markdown",
   "id": "a8ef1c25",
   "metadata": {},
   "source": [
    "Create explanatory and response variables."
   ]
  },
  {
   "cell_type": "code",
   "execution_count": 60,
   "id": "5af0d051",
   "metadata": {},
   "outputs": [],
   "source": [
    "df = pd.read_csv('train_no_na.csv')\n",
    "X = df.drop(['outcome'], axis=1)\n",
    "y = pd.get_dummies(df[\"outcome\"], drop_first=True)\n",
    "y = np.ravel(y).reshape((-1,))"
   ]
  },
  {
   "cell_type": "markdown",
   "id": "93962d79",
   "metadata": {},
   "source": [
    "Identify Numeric and categorical columns."
   ]
  },
  {
   "cell_type": "code",
   "execution_count": 61,
   "id": "d2dc4e25",
   "metadata": {},
   "outputs": [],
   "source": [
    "numeric_columns = X.select_dtypes(include=[float, int]).columns\n",
    "\n",
    "categorical_columns = list(set(X.columns) - set(numeric_columns))"
   ]
  },
  {
   "cell_type": "markdown",
   "id": "1e8f1de4",
   "metadata": {},
   "source": [
    "Create preprocessing pipelines. One without and one with scaling for numeric variables."
   ]
  },
  {
   "cell_type": "code",
   "execution_count": 62,
   "id": "09d9779d",
   "metadata": {},
   "outputs": [],
   "source": [
    "numeric_transformer = Pipeline([('imputer', SimpleImputer(strategy='median'))])\n",
    "categorical_transformer = Pipeline([('imputer', SimpleImputer(strategy='constant', fill_value='missing')), ('ohe', OneHotEncoder(handle_unknown = 'ignore'))])\n",
    "\n",
    "preprocessor = ColumnTransformer(\n",
    "    transformers=[\n",
    "        (\"num\", numeric_transformer, numeric_columns),\n",
    "        (\"cat\", categorical_transformer, categorical_columns),\n",
    "    ]\n",
    ")"
   ]
  },
  {
   "cell_type": "code",
   "execution_count": 63,
   "id": "d6d1e08f",
   "metadata": {},
   "outputs": [],
   "source": [
    "numeric_transformer_scale = Pipeline([('imputer', SimpleImputer(strategy='median')), ('scaler', MinMaxScaler())])\n",
    "\n",
    "preprocessor_scale = ColumnTransformer(\n",
    "    transformers=[\n",
    "        (\"num\", numeric_transformer_scale, numeric_columns),\n",
    "        (\"cat\", categorical_transformer, categorical_columns),\n",
    "    ]\n",
    ")"
   ]
  },
  {
   "cell_type": "markdown",
   "id": "e525bc1b",
   "metadata": {},
   "source": [
    "Load models."
   ]
  },
  {
   "cell_type": "code",
   "execution_count": 64,
   "id": "bf4ea423",
   "metadata": {},
   "outputs": [],
   "source": [
    "reg = LogisticRegression(penalty='elasticnet', solver='saga', random_state=1, C=1, l1_ratio=1)\n",
    "reg_pipeline = Pipeline(steps=[('preprocessor', preprocessor_scale), ('model', reg)])"
   ]
  },
  {
   "cell_type": "code",
   "execution_count": 65,
   "id": "6e862f06",
   "metadata": {},
   "outputs": [],
   "source": [
    "mlp = MLPClassifier(learning_rate_init=0.01, alpha=0.2, hidden_layer_sizes=5, max_iter=1000, random_state=1)\n",
    "mlp_pipeline = Pipeline(steps=[('preprocessor_scale', preprocessor_scale), ('model', mlp)])"
   ]
  },
  {
   "cell_type": "code",
   "execution_count": 66,
   "id": "dd330565",
   "metadata": {},
   "outputs": [],
   "source": [
    "xgb = XGBClassifier(learning_rate=0.01, n_estimators=481, max_depth=5, min_child_weight=3, gamma=0.2,\n",
    "                    colsample_bytree=1, subsample=0.9, reg_alpha=0.00001, reg_lambda=0.1,\n",
    "                    random_state=1, n_jobs=-1)\n",
    "xgb_pipeline = Pipeline(steps=[('preprocessor', preprocessor), ('model', xgb)])"
   ]
  },
  {
   "cell_type": "markdown",
   "id": "7a944ffe",
   "metadata": {},
   "source": [
    "Run stacking classifier."
   ]
  },
  {
   "cell_type": "code",
   "execution_count": 67,
   "id": "d0068a6d",
   "metadata": {},
   "outputs": [
    {
     "name": "stdout",
     "output_type": "stream",
     "text": [
      "-0.5933075444602756\n"
     ]
    }
   ],
   "source": [
    "rkf = RepeatedKFold(random_state=1)\n",
    "kf = KFold(shuffle=True, random_state=1)\n",
    "\n",
    "level0 = list()\n",
    "level0.append(('reg', reg_pipeline))\n",
    "level0.append(('mlp', mlp_pipeline))\n",
    "level0.append(('xgb', xgb_pipeline))\n",
    "level1 = LogisticRegression(solver='sag')\n",
    "\n",
    "clf = StackingClassifier(estimators=level0, final_estimator=level1, cv=kf, n_jobs=-1)\n",
    "\n",
    "cv_scores = cross_val_score(estimator=clf, X=X, y=y, scoring='neg_log_loss', cv=rkf, n_jobs=-1)\n",
    "print(mean(cv_scores))"
   ]
  }
 ],
 "metadata": {
  "kernelspec": {
   "display_name": "Python 3",
   "language": "python",
   "name": "python3"
  },
  "language_info": {
   "codemirror_mode": {
    "name": "ipython",
    "version": 3
   },
   "file_extension": ".py",
   "mimetype": "text/x-python",
   "name": "python",
   "nbconvert_exporter": "python",
   "pygments_lexer": "ipython3",
   "version": "3.8.8"
  }
 },
 "nbformat": 4,
 "nbformat_minor": 5
}
